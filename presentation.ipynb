{
 "cells": [
  {
   "cell_type": "markdown",
   "metadata": {
    "slideshow": {
     "slide_type": "slide"
    }
   },
   "source": [
    "# Python etc"
   ]
  },
  {
   "cell_type": "markdown",
   "metadata": {
    "slideshow": {
     "slide_type": "slide"
    }
   },
   "source": [
    "# Part 1\n",
    "## Basic definitions: Object value and type"
   ]
  },
  {
   "cell_type": "markdown",
   "metadata": {},
   "source": [
    "All data in Python is represented by **objects**.  Every object has an **identity**, a **type**, and a **value**.  **Objects** are (often) identified by a symbolic **name**.\n",
    "\n",
    "```python\n",
    "x = 10\n",
    "```\n",
    "\n",
    "- Name: `x`\n",
    "- Value: `10`\n",
    "- Type: `int` (integer)"
   ]
  },
  {
   "cell_type": "code",
   "execution_count": 2,
   "metadata": {},
   "outputs": [],
   "source": [
    "x = 10"
   ]
  },
  {
   "cell_type": "code",
   "execution_count": null,
   "metadata": {},
   "outputs": [],
   "source": []
  },
  {
   "cell_type": "markdown",
   "metadata": {
    "slideshow": {
     "slide_type": "slide"
    }
   },
   "source": [
    "```python\n",
    "greeting = \"Hello there\"\n",
    "```\n",
    "\n",
    "- Name: `greeting`\n",
    "- Value: `\"Hello there\"`\n",
    "- Type: `str` (string)"
   ]
  },
  {
   "cell_type": "markdown",
   "metadata": {
    "slideshow": {
     "slide_type": "slide"
    }
   },
   "source": [
    "```python\n",
    "days = [\"Saturday\", \"Sunday\"]\n",
    "```\n",
    "\n",
    "- Name: `days`\n",
    "- Value: `[\"Saturday\", \"Sunday\"]`\n",
    "- Type: `list`"
   ]
  },
  {
   "cell_type": "markdown",
   "metadata": {
    "slideshow": {
     "slide_type": "slide"
    }
   },
   "source": [
    "## (Im)mutability"
   ]
  },
  {
   "cell_type": "markdown",
   "metadata": {
    "slideshow": {
     "slide_type": "fragment"
    }
   },
   "source": [
    "Immutable types: `int`, `float`, `str`, `tuple`\n",
    "\n",
    "Mutable types: `list`, `dict`"
   ]
  },
  {
   "cell_type": "markdown",
   "metadata": {
    "slideshow": {
     "slide_type": "slide"
    }
   },
   "source": [
    "### Immutable objects"
   ]
  },
  {
   "cell_type": "code",
   "execution_count": 1,
   "metadata": {
    "slideshow": {
     "slide_type": "-"
    }
   },
   "outputs": [
    {
     "name": "stdout",
     "output_type": "stream",
     "text": [
      "5\n",
      "e\n"
     ]
    }
   ],
   "source": [
    "greeting = \"Hello\"\n",
    "print(len(greeting))\n",
    "print(greeting[1])"
   ]
  },
  {
   "cell_type": "code",
   "execution_count": 4,
   "metadata": {
    "slideshow": {
     "slide_type": "fragment"
    }
   },
   "outputs": [],
   "source": [
    "# greeting[1] = \"a\""
   ]
  },
  {
   "cell_type": "markdown",
   "metadata": {
    "slideshow": {
     "slide_type": "fragment"
    }
   },
   "source": [
    "Can't change the string since it's immutable."
   ]
  },
  {
   "cell_type": "code",
   "execution_count": 6,
   "metadata": {
    "slideshow": {
     "slide_type": "slide"
    }
   },
   "outputs": [
    {
     "name": "stdout",
     "output_type": "stream",
     "text": [
      "Hallo\n"
     ]
    }
   ],
   "source": [
    "greeting = \"Hello\"\n",
    "greeting = \"Hallo\"\n",
    "print(greeting)"
   ]
  },
  {
   "cell_type": "markdown",
   "metadata": {
    "slideshow": {
     "slide_type": "fragment"
    }
   },
   "source": [
    "We're not changing the string, we're just binding (assigning) a new value (a different object) to the name `greeting`.  `greeting` refers to a different object now.\n"
   ]
  },
  {
   "cell_type": "code",
   "execution_count": 9,
   "metadata": {
    "slideshow": {
     "slide_type": "slide"
    }
   },
   "outputs": [
    {
     "name": "stdout",
     "output_type": "stream",
     "text": [
      "Hallo, old friend there\n",
      "Hallo, old friend there, old friend\n"
     ]
    }
   ],
   "source": [
    "greeting += \" there\"\n",
    "print(greeting)\n",
    "greeting += \", old friend\"\n",
    "print(greeting)"
   ]
  },
  {
   "cell_type": "markdown",
   "metadata": {},
   "source": [
    "The operation `x += i` is equivalent to `x = x + 1`"
   ]
  },
  {
   "cell_type": "code",
   "execution_count": 10,
   "metadata": {
    "slideshow": {
     "slide_type": "slide"
    }
   },
   "outputs": [
    {
     "name": "stdout",
     "output_type": "stream",
     "text": [
      "13\n"
     ]
    }
   ],
   "source": [
    "x = 10\n",
    "x += 3\n",
    "print(x)"
   ]
  },
  {
   "cell_type": "markdown",
   "metadata": {
    "slideshow": {
     "slide_type": "slide"
    }
   },
   "source": [
    "What does it mean to be **immutable** then?"
   ]
  },
  {
   "cell_type": "code",
   "execution_count": null,
   "metadata": {},
   "outputs": [],
   "source": [
    "\n",
    "### The `id()`entity of an object\n",
    "\n",
    "```python\n",
    "greeting = \"hello\"\n",
    "print(id(greeting))\n",
    "\n",
    "greeting.append(\" there\")\n",
    "print(id(greeting))\n",
    "```\n",
    "\n",
    "```python\n",
    "x = 10\n",
    "print(id(x))\n",
    "x += 20\n",
    "print(id(x))\n",
    "```\n",
    "\n",
    "The immutable object's **value** doesn't change, the names `greeting` and `x` are bound to different objects (they have a new `id`).\n",
    "\n",
    "\n",
    "### Mutable objects\n",
    "\n",
    "```python\n",
    "days = [\"Saturday\", \"Sunday\"]\n",
    "print(id(days))\n",
    "days.append(\"Wednesday\")\n",
    "print(id(days))\n",
    "\n",
    "days += [\"Thursday\", \"Friday\"]\n",
    "print(id(days))\n",
    "```\n",
    "\n",
    "The name `days` is not rebound, it's still pointing to the same object.\n",
    "The object's **value** has changed.  Lists are immutable.\n",
    "\n",
    "\n",
    "### What this means in practice\n",
    "\n",
    "In practice, you should always be aware of what you are doing to an object that is or is not mutable.\n",
    "\n",
    "```python\n",
    "weekend = [\"Saturday\", \"Sunday\"]\n",
    "days = weekend\n",
    "print(days)\n",
    "days.append(\"Monday\")\n",
    "days.append(\"Tuesday\")\n",
    "days.append(\"Wednesday\")\n",
    "print(days)\n",
    "print(weekend)\n",
    "print(id(days), id(weekend))\n",
    "```\n",
    "\n",
    "When we assigned `weekend` to `days`, the existing object in `weekend` we *bound* to `days`.  Both `days` and `weekend` refer to the same object (they have the same `id`).  When we modified `days` we were modifying the underlying object that is bound to both names.\n",
    "\n",
    "### Testing identities\n",
    "\n",
    "```python\n",
    "a = [\"Green\", \"Yellow\"]\n",
    "b = [\"Green\", \"Yellow\"]\n",
    "print(a == b)\n",
    "print(a is b)\n",
    "\n",
    "a.append(\"Red\")\n",
    "print(a)\n",
    "print(b)\n",
    "\n",
    "a = b\n",
    "print(a is b)\n",
    "```\n"
   ]
  }
 ],
 "metadata": {
  "celltoolbar": "Slideshow",
  "kernelspec": {
   "display_name": "Python 3",
   "language": "python",
   "name": "python3"
  },
  "language_info": {
   "codemirror_mode": {
    "name": "ipython",
    "version": 3
   },
   "file_extension": ".py",
   "mimetype": "text/x-python",
   "name": "python",
   "nbconvert_exporter": "python",
   "pygments_lexer": "ipython3",
   "version": "3.7.4"
  },
  "rise": {
   "transition": "none"
  }
 },
 "nbformat": 4,
 "nbformat_minor": 2
}
